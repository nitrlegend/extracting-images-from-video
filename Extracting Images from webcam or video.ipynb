{
 "cells": [
  {
   "cell_type": "markdown",
   "metadata": {},
   "source": []
  },
  {
   "cell_type": "code",
   "execution_count": 9,
   "metadata": {},
   "outputs": [
    {
     "name": "stdout",
     "output_type": "stream",
     "text": [
      "..../data1/frame0.png\n",
      "..../data1/frame1.png\n",
      "..../data1/frame2.png\n",
      "..../data1/frame3.png\n",
      "..../data1/frame4.png\n",
      "..../data1/frame5.png\n",
      "..../data1/frame6.png\n",
      "..../data1/frame7.png\n",
      "..../data1/frame8.png\n",
      "..../data1/frame9.png\n",
      "..../data1/frame10.png\n",
      "..../data1/frame11.png\n",
      "..../data1/frame12.png\n",
      "..../data1/frame13.png\n",
      "..../data1/frame14.png\n",
      "..../data1/frame15.png\n",
      "..../data1/frame16.png\n",
      "..../data1/frame17.png\n",
      "..../data1/frame18.png\n",
      "..../data1/frame19.png\n",
      "..../data1/frame20.png\n",
      "..../data1/frame21.png\n",
      "..../data1/frame22.png\n",
      "..../data1/frame23.png\n",
      "..../data1/frame24.png\n",
      "..../data1/frame25.png\n",
      "..../data1/frame26.png\n",
      "..../data1/frame27.png\n",
      "..../data1/frame28.png\n",
      "..../data1/frame29.png\n"
     ]
    }
   ],
   "source": [
    "import cv2\n",
    "import numpy as np\n",
    "import os\n",
    "import time\n",
    "\n",
    "cap=cv2.VideoCapture(0)\n",
    "try:\n",
    "    if not os.path.exists('data1'):\n",
    "        os.makedirs('data1')\n",
    "except OSError:\n",
    "    print(\"Error creating file\")\n",
    "    \n",
    "currentframe=0\n",
    "while(currentframe<30):\n",
    "    time.sleep(0.2)\n",
    "    ret,frame=cap.read()\n",
    "    name='./data1/frame'+str(currentframe)+'.png'\n",
    "    print('...'+name)\n",
    "    cv2.imwrite(name,frame)\n",
    "    currentframe+=1\n",
    "cap.release()\n",
    "cv2.destroyAllWindows()\n",
    "    \n",
    "\n",
    "\n",
    "\n"
   ]
  }
 ],
 "metadata": {
  "kernelspec": {
   "display_name": "Python 3",
   "language": "python",
   "name": "python3"
  },
  "language_info": {
   "codemirror_mode": {
    "name": "ipython",
    "version": 3
   },
   "file_extension": ".py",
   "mimetype": "text/x-python",
   "name": "python",
   "nbconvert_exporter": "python",
   "pygments_lexer": "ipython3",
   "version": "3.5.4"
  }
 },
 "nbformat": 4,
 "nbformat_minor": 2
}
